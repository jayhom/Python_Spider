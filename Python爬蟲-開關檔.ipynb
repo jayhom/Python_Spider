{
 "cells": [
  {
   "cell_type": "markdown",
   "metadata": {},
   "source": [
    "# 開檔與關檔"
   ]
  },
  {
   "cell_type": "code",
   "execution_count": 18,
   "metadata": {},
   "outputs": [
    {
     "name": "stdout",
     "output_type": "stream",
     "text": [
      "[豪洨] 二師兄-台中日常\n",
      "Re: [猜謎] 一句話恐怖故事大賽\n",
      "Re: [猜謎] 一句話恐怖故事大賽\n",
      "Re: [猜謎] 一句話恐怖故事大賽\n",
      "[猜謎] 放屁\n",
      "放下\n",
      "Re: [猜謎] 一句話恐怖故事大賽\n",
      "[笑話] 就像把剩下的番茄醬倒出來那樣\n",
      "Re: [猜謎] 一句話恐怖故事大賽\n",
      "[公告] joke版規 (2018/03/26 更新)\n"
     ]
    }
   ],
   "source": [
    "f = open('untitled.txt', 'w')\n",
    "import requests\n",
    "from bs4 import BeautifulSoup\n",
    "r = requests.get(\"https://www.ptt.cc/bbs/joke/index.html\")\n",
    "soup = BeautifulSoup(r.text, \"html.parser\")\n",
    "sel = soup.select(\"div.title a\")\n",
    "for s in sel:\n",
    "    print(s.text)\n",
    "    f.write(s.text+\"\\n\")\n",
    "f.close()"
   ]
  },
  {
   "cell_type": "code",
   "execution_count": 19,
   "metadata": {},
   "outputs": [
    {
     "name": "stdout",
     "output_type": "stream",
     "text": [
      "[豪洨] 二師兄-台中日常\n",
      "Re: [猜謎] 一句話恐怖故事大賽\n",
      "Re: [猜謎] 一句話恐怖故事大賽\n",
      "Re: [猜謎] 一句話恐怖故事大賽\n",
      "[猜謎] 放屁\n",
      "放下\n",
      "Re: [猜謎] 一句話恐怖故事大賽\n",
      "[笑話] 就像把剩下的番茄醬倒出來那樣\n",
      "Re: [猜謎] 一句話恐怖故事大賽\n",
      "[公告] joke版規 (2018/03/26 更新)\n",
      "\n"
     ]
    }
   ],
   "source": [
    "f = open('untitled.txt', 'r')\n",
    "r = f.read()\n",
    "print(r)"
   ]
  },
  {
   "cell_type": "code",
   "execution_count": null,
   "metadata": {},
   "outputs": [],
   "source": []
  }
 ],
 "metadata": {
  "kernelspec": {
   "display_name": "Python 3",
   "language": "python",
   "name": "python3"
  },
  "language_info": {
   "codemirror_mode": {
    "name": "ipython",
    "version": 3
   },
   "file_extension": ".py",
   "mimetype": "text/x-python",
   "name": "python",
   "nbconvert_exporter": "python",
   "pygments_lexer": "ipython3",
   "version": "3.6.6"
  }
 },
 "nbformat": 4,
 "nbformat_minor": 2
}
