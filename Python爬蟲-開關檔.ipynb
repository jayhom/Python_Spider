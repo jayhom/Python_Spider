{
 "cells": [
  {
   "cell_type": "markdown",
   "metadata": {},
   "source": [
    "# 開檔與關檔"
   ]
  },
  {
   "cell_type": "code",
   "execution_count": 18,
   "metadata": {},
   "outputs": [
    {
     "name": "stdout",
     "output_type": "stream",
     "text": [
      "[豪洨] 二師兄-台中日常\n",
      "Re: [猜謎] 一句話恐怖故事大賽\n",
      "Re: [猜謎] 一句話恐怖故事大賽\n",
      "Re: [猜謎] 一句話恐怖故事大賽\n",
      "[猜謎] 放屁\n",
      "放下\n",
      "Re: [猜謎] 一句話恐怖故事大賽\n",
      "[笑話] 就像把剩下的番茄醬倒出來那樣\n",
      "Re: [猜謎] 一句話恐怖故事大賽\n",
      "[公告] joke版規 (2018/03/26 更新)\n"
     ]
    }
   ],
   "source": [
    "f = open('untitled.txt', 'w')\n",
    "import requests\n",
    "from bs4 import BeautifulSoup\n",
    "r = requests.get(\"https://www.ptt.cc/bbs/joke/index.html\")\n",
    "soup = BeautifulSoup(r.text, \"html.parser\")\n",
    "sel = soup.select(\"div.title a\")\n",
    "for s in sel:\n",
    "    print(s.text)\n",
    "    f.write(s.text+\"\\n\")\n",
    "f.close()"
   ]
  },
  {
   "cell_type": "code",
   "execution_count": 19,
   "metadata": {},
   "outputs": [
    {
     "name": "stdout",
     "output_type": "stream",
     "text": [
      "[豪洨] 二師兄-台中日常\n",
      "Re: [猜謎] 一句話恐怖故事大賽\n",
      "Re: [猜謎] 一句話恐怖故事大賽\n",
      "Re: [猜謎] 一句話恐怖故事大賽\n",
      "[猜謎] 放屁\n",
      "放下\n",
      "Re: [猜謎] 一句話恐怖故事大賽\n",
      "[笑話] 就像把剩下的番茄醬倒出來那樣\n",
      "Re: [猜謎] 一句話恐怖故事大賽\n",
      "[公告] joke版規 (2018/03/26 更新)\n",
      "\n"
     ]
    }
   ],
   "source": [
    "f = open('untitled.txt', 'r')\n",
    "r = f.read()\n",
    "print(r)"
   ]
  },
  {
   "cell_type": "code",
   "execution_count": 3,
   "metadata": {},
   "outputs": [
    {
     "name": "stdout",
     "output_type": "stream",
     "text": [
      "/bbs/MobileComm/M.1539432650.A.165.html [新聞] 史上最快！果粉們火速更新iOS 12 升級率\n",
      "/bbs/MobileComm/M.1539432663.A.C58.html [閒聊] 菲律賓 Vivo Y81 評測相關\n",
      "/bbs/MobileComm/M.1539434683.A.212.html [情報] 新iPad Pro曝光：窄邊框+砍耳機孔\n",
      "/bbs/MobileComm/M.1539435083.A.F53.html [請益] Infocus M5S vs Zenfone3\n",
      "/bbs/MobileComm/M.1539435830.A.A7D.html [心得] HTC 10 轉 SONY XZ3 一個禮拜感想\n",
      "/bbs/MobileComm/M.1539436058.A.FCC.html Re: [問題] Nokia 6.1 plus的Wifi連線問題？\n",
      "/bbs/MobileComm/M.1539436347.A.B46.html [問題] 用英文傳這種簡訊有效力嗎？\n",
      "/bbs/MobileComm/M.1539436974.A.798.html Re: [閒聊] ANANDTECH 評測iPhone Xs & Xs Max\n",
      "/bbs/MobileComm/M.1539437331.A.2AD.html Re: [新聞] 質疑基地台「有輻射」　三大電信「聯手斷\n",
      "/bbs/MobileComm/M.1539439104.A.4A9.html [閒聊] Nokia 5.1+ 白色\n",
      "/bbs/MobileComm/M.1539440948.A.C84.html [閒聊] 葉秋評測 華碩ROG 遊戲手機\n",
      "/bbs/MobileComm/M.1539441475.A.42A.html [問題] XZP會lag\n",
      "/bbs/MobileComm/M.1539442580.A.2C7.html [閒聊] 印度 Nokia 3.1 Plus 評測相關\n",
      "/bbs/MobileComm/M.1539443185.A.F63.html [問題] 請問遠傳可以申辦無約的門號嗎？\n",
      "/bbs/MobileComm/M.1539445440.A.AD6.html [開箱] 華碩ZenFone 5(ZE620KL)極簡開箱\n",
      "/bbs/MobileComm/M.1539446202.A.C40.html [心得] SHARP 手機保固內不給修\n",
      "/bbs/MobileComm/M.1510505109.A.ED5.html [公告] MobileComm板規 20171113版\n",
      "/bbs/MobileComm/M.1513151283.A.C15.html [公告] 代理板主期間部分板規更動 (9/23更新)\n",
      "/bbs/MobileComm/M.1534272593.A.93B.html [情報] 3G要斷訊了? 3G執照到期相關情報整理\n",
      "/bbs/MobileComm/M.1537457317.A.243.html [閒聊] 各種價位的手機/平板列表(2018/09/20更新)\n"
     ]
    }
   ],
   "source": [
    "import requests\n",
    "from bs4 import BeautifulSoup\n",
    "\n",
    "r = requests.get(\"https://www.ptt.cc/bbs/MobileComm/index.html\") #將網頁資料GET下來\n",
    "soup = BeautifulSoup(r.text,\"html.parser\") #將網頁資料以html.parser\n",
    "sel = soup.select(\"div.title a\") #取HTML標中的 <div class=\"title\"></div> 中的<a>標籤存入sel\n",
    "for s in sel:\n",
    "    print(s[\"href\"], s.text)"
   ]
  },
  {
   "cell_type": "code",
   "execution_count": 8,
   "metadata": {},
   "outputs": [
    {
     "name": "stdout",
     "output_type": "stream",
     "text": [
      "/bbs/MobileComm/M.1539432650.A.165.html [新聞] 史上最快！果粉們火速更新iOS 12 升級率\n",
      "/bbs/MobileComm/M.1539432663.A.C58.html [閒聊] 菲律賓 Vivo Y81 評測相關\n",
      "/bbs/MobileComm/M.1539434683.A.212.html [情報] 新iPad Pro曝光：窄邊框+砍耳機孔\n",
      "/bbs/MobileComm/M.1539435083.A.F53.html [請益] Infocus M5S vs Zenfone3\n",
      "/bbs/MobileComm/M.1539435830.A.A7D.html [心得] HTC 10 轉 SONY XZ3 一個禮拜感想\n",
      "/bbs/MobileComm/M.1539436058.A.FCC.html Re: [問題] Nokia 6.1 plus的Wifi連線問題？\n",
      "/bbs/MobileComm/M.1539436347.A.B46.html [問題] 用英文傳這種簡訊有效力嗎？\n",
      "/bbs/MobileComm/M.1539436974.A.798.html Re: [閒聊] ANANDTECH 評測iPhone Xs & Xs Max\n",
      "/bbs/MobileComm/M.1539437331.A.2AD.html Re: [新聞] 質疑基地台「有輻射」　三大電信「聯手斷\n",
      "/bbs/MobileComm/M.1539439104.A.4A9.html [閒聊] Nokia 5.1+ 白色\n",
      "/bbs/MobileComm/M.1539440948.A.C84.html [閒聊] 葉秋評測 華碩ROG 遊戲手機\n",
      "/bbs/MobileComm/M.1539441475.A.42A.html [問題] XZP會lag\n",
      "/bbs/MobileComm/M.1539442580.A.2C7.html [閒聊] 印度 Nokia 3.1 Plus 評測相關\n",
      "/bbs/MobileComm/M.1539443185.A.F63.html [問題] 請問遠傳可以申辦無約的門號嗎？\n",
      "/bbs/MobileComm/M.1539445440.A.AD6.html [開箱] 華碩ZenFone 5(ZE620KL)極簡開箱\n",
      "/bbs/MobileComm/M.1539446202.A.C40.html [心得] SHARP 手機保固內不給修\n",
      "/bbs/MobileComm/M.1510505109.A.ED5.html [公告] MobileComm板規 20171113版\n",
      "/bbs/MobileComm/M.1513151283.A.C15.html [公告] 代理板主期間部分板規更動 (9/23更新)\n",
      "/bbs/MobileComm/M.1534272593.A.93B.html [情報] 3G要斷訊了? 3G執照到期相關情報整理\n",
      "/bbs/MobileComm/M.1537457317.A.243.html [閒聊] 各種價位的手機/平板列表(2018/09/20更新)\n"
     ]
    }
   ],
   "source": [
    "import requests\n",
    "from bs4 import BeautifulSoup\n",
    "f = open('file.txt', 'w')\n",
    "r = requests.get(\"https://www.ptt.cc/bbs/MobileComm/index.html\") #將網頁資料GET下來\n",
    "soup = BeautifulSoup(r.text,\"html.parser\") #將網頁資料以html.parser\n",
    "sel = soup.select(\"div.title a\") #取HTML標中的 <div class=\"title\"></div> 中的<a>標籤存入sel\n",
    "for s in sel:\n",
    "    print(s[\"href\"], s.text)\n",
    "    f.write(str(s[\"href\"]) + s.text+\"\\n\")\n",
    "f.close()"
   ]
  },
  {
   "cell_type": "code",
   "execution_count": 9,
   "metadata": {},
   "outputs": [
    {
     "name": "stdout",
     "output_type": "stream",
     "text": [
      "/bbs/MobileComm/M.1539432650.A.165.html[新聞] 史上最快！果粉們火速更新iOS 12 升級率\n",
      "/bbs/MobileComm/M.1539432663.A.C58.html[閒聊] 菲律賓 Vivo Y81 評測相關\n",
      "/bbs/MobileComm/M.1539434683.A.212.html[情報] 新iPad Pro曝光：窄邊框+砍耳機孔\n",
      "/bbs/MobileComm/M.1539435083.A.F53.html[請益] Infocus M5S vs Zenfone3\n",
      "/bbs/MobileComm/M.1539435830.A.A7D.html[心得] HTC 10 轉 SONY XZ3 一個禮拜感想\n",
      "/bbs/MobileComm/M.1539436058.A.FCC.htmlRe: [問題] Nokia 6.1 plus的Wifi連線問題？\n",
      "/bbs/MobileComm/M.1539436347.A.B46.html[問題] 用英文傳這種簡訊有效力嗎？\n",
      "/bbs/MobileComm/M.1539436974.A.798.htmlRe: [閒聊] ANANDTECH 評測iPhone Xs & Xs Max\n",
      "/bbs/MobileComm/M.1539437331.A.2AD.htmlRe: [新聞] 質疑基地台「有輻射」　三大電信「聯手斷\n",
      "/bbs/MobileComm/M.1539439104.A.4A9.html[閒聊] Nokia 5.1+ 白色\n",
      "/bbs/MobileComm/M.1539440948.A.C84.html[閒聊] 葉秋評測 華碩ROG 遊戲手機\n",
      "/bbs/MobileComm/M.1539441475.A.42A.html[問題] XZP會lag\n",
      "/bbs/MobileComm/M.1539442580.A.2C7.html[閒聊] 印度 Nokia 3.1 Plus 評測相關\n",
      "/bbs/MobileComm/M.1539443185.A.F63.html[問題] 請問遠傳可以申辦無約的門號嗎？\n",
      "/bbs/MobileComm/M.1539445440.A.AD6.html[開箱] 華碩ZenFone 5(ZE620KL)極簡開箱\n",
      "/bbs/MobileComm/M.1539446202.A.C40.html[心得] SHARP 手機保固內不給修\n",
      "/bbs/MobileComm/M.1510505109.A.ED5.html[公告] MobileComm板規 20171113版\n",
      "/bbs/MobileComm/M.1513151283.A.C15.html[公告] 代理板主期間部分板規更動 (9/23更新)\n",
      "/bbs/MobileComm/M.1534272593.A.93B.html[情報] 3G要斷訊了? 3G執照到期相關情報整理\n",
      "/bbs/MobileComm/M.1537457317.A.243.html[閒聊] 各種價位的手機/平板列表(2018/09/20更新)\n",
      "\n"
     ]
    }
   ],
   "source": [
    "f = open('file.txt', 'r')\n",
    "r = f.read()\n",
    "print(r)\n",
    "f.close()"
   ]
  },
  {
   "cell_type": "code",
   "execution_count": null,
   "metadata": {},
   "outputs": [],
   "source": []
  }
 ],
 "metadata": {
  "kernelspec": {
   "display_name": "Python 3",
   "language": "python",
   "name": "python3"
  },
  "language_info": {
   "codemirror_mode": {
    "name": "ipython",
    "version": 3
   },
   "file_extension": ".py",
   "mimetype": "text/x-python",
   "name": "python",
   "nbconvert_exporter": "python",
   "pygments_lexer": "ipython3",
   "version": "3.6.6"
  }
 },
 "nbformat": 4,
 "nbformat_minor": 2
}
