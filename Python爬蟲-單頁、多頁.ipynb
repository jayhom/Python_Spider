{
 "cells": [
  {
   "cell_type": "code",
   "execution_count": 8,
   "metadata": {},
   "outputs": [],
   "source": [
    "import requests\n",
    "from bs4 import BeautifulSoup"
   ]
  },
  {
   "cell_type": "markdown",
   "metadata": {},
   "source": [
    "# 為何要用BeautifulSoup\n",
    "BeautifulSoup的select可以用CSS的語法來處理得到的原始碼\n",
    "選取標題部分，存到變數sel\n",
    "所以我們先講css語法"
   ]
  },
  {
   "cell_type": "code",
   "execution_count": 26,
   "metadata": {},
   "outputs": [],
   "source": [
    "url=requests.get(\"https://www.ptt.cc/bbs/joke/index.html\")"
   ]
  },
  {
   "cell_type": "code",
   "execution_count": 27,
   "metadata": {},
   "outputs": [
    {
     "name": "stdout",
     "output_type": "stream",
     "text": [
      "<!DOCTYPE html>\n",
      "<html>\n",
      "\t<head>\n",
      "\t\t<meta charset=\"utf-8\">\n",
      "\t\t\n",
      "\n",
      "<meta name=\"viewport\" content=\"width=device-width, initial-scale=1\">\n",
      "\n",
      "<title>看板 joke 文章列表 - 批踢踢實業坊</title>\n",
      "\n",
      "<link rel=\"stylesheet\" type=\"text/css\" href=\"//images.ptt.cc/bbs/v2.25/bbs-common.css\">\n",
      "<link rel=\"stylesheet\" type=\"text/css\" href=\"//images.ptt.cc/bbs/v2.25/bbs-base.css\" media=\"screen\">\n",
      "<link rel=\"stylesheet\" type=\"text/css\" href=\"//images.ptt.cc/bbs/v2.25/bbs-custom.css\">\n",
      "<link rel=\"stylesheet\" type=\"text/css\" href=\"//images.ptt.cc/bbs/v2.25/pushstream.css\" media=\"screen\">\n",
      "<link rel=\"stylesheet\" type=\"text/css\" href=\"//images.ptt.cc/bbs/v2.25/bbs-print.css\" media=\"print\">\n",
      "\n",
      "\n",
      "\n",
      "\n",
      "\t</head>\n",
      "    <body>\n",
      "\t\t\n",
      "<div id=\"topbar-container\">\n",
      "\t<div id=\"topbar\" class=\"bbs-content\">\n",
      "\t\t<a id=\"logo\" href=\"/bbs/\">批踢踢實業坊</a>\n",
      "\t\t<span>&rsaquo;</span>\n",
      "\t\t<a class=\"board\" href=\"/bbs/joke/index.html\"><span class=\"board-label\">看板 </span>joke</a>\n",
      "\t\t<a class=\"right small\" href=\"/about.html\">關於我們</a>\n",
      "\t\t<a class=\"right small\" href=\"/contact.html\">聯絡資訊</a>\n",
      "\t</div>\n",
      "</div>\n",
      "\n",
      "<div id=\"main-container\">\n",
      "\t<div id=\"action-bar-container\">\n",
      "\t\t<div class=\"action-bar\">\n",
      "\t\t\t<div class=\"btn-group btn-group-dir\">\n",
      "\t\t\t\t<a class=\"btn selected\" href=\"/bbs/joke/index.html\">看板</a>\n",
      "\t\t\t\t<a class=\"btn\" href=\"/man/joke/index.html\">精華區</a>\n",
      "\t\t\t</div>\n",
      "\t\t\t<div class=\"btn-group btn-group-paging\">\n",
      "\t\t\t\t<a class=\"btn wide\" href=\"/bbs/joke/index1.html\">最舊</a>\n",
      "\t\t\t\t<a class=\"btn wide\" href=\"/bbs/joke/index6080.html\">&lsaquo; 上頁</a>\n",
      "\t\t\t\t<a class=\"btn wide disabled\">下頁 &rsaquo;</a>\n",
      "\t\t\t\t<a class=\"btn wide\" href=\"/bbs/joke/index.html\">最新</a>\n",
      "\t\t\t</div>\n",
      "\t\t</div>\n",
      "\t</div>\n",
      "\n",
      "\t<div class=\"r-list-container action-bar-margin bbs-screen\">\n",
      "\t\t<div class=\"search-bar\">\n",
      "\t\t\t<form type=\"get\" action=\"search\" id=\"search-bar\">\n",
      "\t\t\t\t<input class=\"query\" type=\"text\" name=\"q\" value=\"\" placeholder=\"搜尋文章&#x22ef;\">\n",
      "\t\t\t</form>\n",
      "\t\t</div>\n",
      "\n",
      "\t\t\n",
      "\t\t\n",
      "            \n",
      "        \n",
      "        \n",
      "\t\t<div class=\"r-ent\">\n",
      "\t\t\t<div class=\"nrec\"><span class=\"hl f2\">9</span></div>\n",
      "\t\t\t<div class=\"title\">\n",
      "\t\t\t\n",
      "\t\t\t\t<a href=\"/bbs/joke/M.1538637464.A.530.html\">[猜謎]颱風就像什麼一樣？</a>\n",
      "\t\t\t\n",
      "\t\t\t</div>\n",
      "\t\t\t<div class=\"meta\">\n",
      "\t\t\t\t<div class=\"author\">Hanedas</div>\n",
      "\t\t\t\t<div class=\"article-menu\">\n",
      "\t\t\t\t\t\n",
      "\t\t\t\t\t<div class=\"trigger\">&#x22ef;</div>\n",
      "\t\t\t\t\t<div class=\"dropdown\">\n",
      "\t\t\t\t\t\t<div class=\"item\"><a href=\"/bbs/joke/search?q=thread%3A%5B%E7%8C%9C%E8%AC%8E%5D%E9%A2%B1%E9%A2%A8%E5%B0%B1%E5%83%8F%E4%BB%80%E9%BA%BC%E4%B8%80%E6%A8%A3%EF%BC%9F\">搜尋同標題文章</a></div>\n",
      "\t\t\t\t\t\t\n",
      "\t\t\t\t\t\t<div class=\"item\"><a href=\"/bbs/joke/search?q=author%3AHanedas\">搜尋看板內 Hanedas 的文章</a></div>\n",
      "\t\t\t\t\t\t\n",
      "\t\t\t\t\t</div>\n",
      "\t\t\t\t\t\n",
      "\t\t\t\t</div>\n",
      "\t\t\t\t<div class=\"date\">10/04</div>\n",
      "\t\t\t\t<div class=\"mark\"></div>\n",
      "\t\t\t</div>\n",
      "\t\t</div>\n",
      "\n",
      "\t\t\n",
      "            \n",
      "        \n",
      "        \n",
      "\t\t<div class=\"r-ent\">\n",
      "\t\t\t<div class=\"nrec\"></div>\n",
      "\t\t\t<div class=\"title\">\n",
      "\t\t\t\n",
      "\t\t\t\t<a href=\"/bbs/joke/M.1538642904.A.D06.html\">Re: [ＸＤ] 白海豚九宮格</a>\n",
      "\t\t\t\n",
      "\t\t\t</div>\n",
      "\t\t\t<div class=\"meta\">\n",
      "\t\t\t\t<div class=\"author\">asd26689900</div>\n",
      "\t\t\t\t<div class=\"article-menu\">\n",
      "\t\t\t\t\t\n",
      "\t\t\t\t\t<div class=\"trigger\">&#x22ef;</div>\n",
      "\t\t\t\t\t<div class=\"dropdown\">\n",
      "\t\t\t\t\t\t<div class=\"item\"><a href=\"/bbs/joke/search?q=thread%3A%5B%EF%BC%B8%EF%BC%A4%5D&#43;%E7%99%BD%E6%B5%B7%E8%B1%9A%E4%B9%9D%E5%AE%AE%E6%A0%BC\">搜尋同標題文章</a></div>\n",
      "\t\t\t\t\t\t\n",
      "\t\t\t\t\t\t<div class=\"item\"><a href=\"/bbs/joke/search?q=author%3Aasd26689900\">搜尋看板內 asd26689900 的文章</a></div>\n",
      "\t\t\t\t\t\t\n",
      "\t\t\t\t\t</div>\n",
      "\t\t\t\t\t\n",
      "\t\t\t\t</div>\n",
      "\t\t\t\t<div class=\"date\">10/04</div>\n",
      "\t\t\t\t<div class=\"mark\"></div>\n",
      "\t\t\t</div>\n",
      "\t\t</div>\n",
      "\n",
      "\t\t\n",
      "            \n",
      "        \n",
      "        \n",
      "\t\t<div class=\"r-ent\">\n",
      "\t\t\t<div class=\"nrec\"></div>\n",
      "\t\t\t<div class=\"title\">\n",
      "\t\t\t\n",
      "\t\t\t\t<a href=\"/bbs/joke/M.1538643374.A.708.html\">[ＸＤ] 西索的天敵</a>\n",
      "\t\t\t\n",
      "\t\t\t</div>\n",
      "\t\t\t<div class=\"meta\">\n",
      "\t\t\t\t<div class=\"author\">magic1104</div>\n",
      "\t\t\t\t<div class=\"article-menu\">\n",
      "\t\t\t\t\t\n",
      "\t\t\t\t\t<div class=\"trigger\">&#x22ef;</div>\n",
      "\t\t\t\t\t<div class=\"dropdown\">\n",
      "\t\t\t\t\t\t<div class=\"item\"><a href=\"/bbs/joke/search?q=thread%3A%5B%EF%BC%B8%EF%BC%A4%5D&#43;%E8%A5%BF%E7%B4%A2%E7%9A%84%E5%A4%A9%E6%95%B5\">搜尋同標題文章</a></div>\n",
      "\t\t\t\t\t\t\n",
      "\t\t\t\t\t\t<div class=\"item\"><a href=\"/bbs/joke/search?q=author%3Amagic1104\">搜尋看板內 magic1104 的文章</a></div>\n",
      "\t\t\t\t\t\t\n",
      "\t\t\t\t\t</div>\n",
      "\t\t\t\t\t\n",
      "\t\t\t\t</div>\n",
      "\t\t\t\t<div class=\"date\">10/04</div>\n",
      "\t\t\t\t<div class=\"mark\"></div>\n",
      "\t\t\t</div>\n",
      "\t\t</div>\n",
      "\n",
      "\t\t\n",
      "            \n",
      "        \n",
      "        \n",
      "\t\t<div class=\"r-ent\">\n",
      "\t\t\t<div class=\"nrec\"></div>\n",
      "\t\t\t<div class=\"title\">\n",
      "\t\t\t\n",
      "\t\t\t\t<a href=\"/bbs/joke/M.1538643718.A.E6A.html\">Re: [ＸＤ] 寄生迷</a>\n",
      "\t\t\t\n",
      "\t\t\t</div>\n",
      "\t\t\t<div class=\"meta\">\n",
      "\t\t\t\t<div class=\"author\">Charmander55</div>\n",
      "\t\t\t\t<div class=\"article-menu\">\n",
      "\t\t\t\t\t\n",
      "\t\t\t\t\t<div class=\"trigger\">&#x22ef;</div>\n",
      "\t\t\t\t\t<div class=\"dropdown\">\n",
      "\t\t\t\t\t\t<div class=\"item\"><a href=\"/bbs/joke/search?q=thread%3A%5B%EF%BC%B8%EF%BC%A4%5D&#43;%E5%AF%84%E7%94%9F%E8%BF%B7\">搜尋同標題文章</a></div>\n",
      "\t\t\t\t\t\t\n",
      "\t\t\t\t\t\t<div class=\"item\"><a href=\"/bbs/joke/search?q=author%3ACharmander55\">搜尋看板內 Charmander55 的文章</a></div>\n",
      "\t\t\t\t\t\t\n",
      "\t\t\t\t\t</div>\n",
      "\t\t\t\t\t\n",
      "\t\t\t\t</div>\n",
      "\t\t\t\t<div class=\"date\">10/04</div>\n",
      "\t\t\t\t<div class=\"mark\"></div>\n",
      "\t\t\t</div>\n",
      "\t\t</div>\n",
      "\n",
      "\t\t\n",
      "        \n",
      "        <div class=\"r-list-sep\"></div>\n",
      "            \n",
      "                \n",
      "        \n",
      "        \n",
      "\t\t<div class=\"r-ent\">\n",
      "\t\t\t<div class=\"nrec\"></div>\n",
      "\t\t\t<div class=\"title\">\n",
      "\t\t\t\n",
      "\t\t\t\t<a href=\"/bbs/joke/M.1522053106.A.755.html\">[公告] joke版規 (2018/03/26 更新)</a>\n",
      "\t\t\t\n",
      "\t\t\t</div>\n",
      "\t\t\t<div class=\"meta\">\n",
      "\t\t\t\t<div class=\"author\">Armour</div>\n",
      "\t\t\t\t<div class=\"article-menu\">\n",
      "\t\t\t\t\t\n",
      "\t\t\t\t\t<div class=\"trigger\">&#x22ef;</div>\n",
      "\t\t\t\t\t<div class=\"dropdown\">\n",
      "\t\t\t\t\t\t<div class=\"item\"><a href=\"/bbs/joke/search?q=thread%3A%5B%E5%85%AC%E5%91%8A%5D&#43;joke%E7%89%88%E8%A6%8F&#43;%282018%2F03%2F26&#43;%E6%9B%B4%E6%96%B0%29\">搜尋同標題文章</a></div>\n",
      "\t\t\t\t\t\t\n",
      "\t\t\t\t\t\t<div class=\"item\"><a href=\"/bbs/joke/search?q=author%3AArmour\">搜尋看板內 Armour 的文章</a></div>\n",
      "\t\t\t\t\t\t\n",
      "\t\t\t\t\t</div>\n",
      "\t\t\t\t\t\n",
      "\t\t\t\t</div>\n",
      "\t\t\t\t<div class=\"date\"> 3/26</div>\n",
      "\t\t\t\t<div class=\"mark\">!</div>\n",
      "\t\t\t</div>\n",
      "\t\t</div>\n",
      "\n",
      "            \n",
      "        \n",
      "\t</div>\n",
      "\n",
      "    \n",
      "</div>\n",
      "\n",
      "\t\t\n",
      "\n",
      "<script>\n",
      "  (function(i,s,o,g,r,a,m){i['GoogleAnalyticsObject']=r;i[r]=i[r]||function(){\n",
      "  (i[r].q=i[r].q||[]).push(arguments)},i[r].l=1*new Date();a=s.createElement(o),\n",
      "  m=s.getElementsByTagName(o)[0];a.async=1;a.src=g;m.parentNode.insertBefore(a,m)\n",
      "  })(window,document,'script','https://www.google-analytics.com/analytics.js','ga');\n",
      "\n",
      "  ga('create', 'UA-32365737-1', {\n",
      "    cookieDomain: 'ptt.cc',\n",
      "    legacyCookieDomain: 'ptt.cc'\n",
      "  });\n",
      "  ga('send', 'pageview');\n",
      "</script>\n",
      "\n",
      "\n",
      "\t\t\n",
      "<script src=\"//ajax.googleapis.com/ajax/libs/jquery/2.1.1/jquery.min.js\"></script>\n",
      "<script src=\"//images.ptt.cc/bbs/v2.25/bbs.js\"></script>\n",
      "\n",
      "    </body>\n",
      "</html>\n",
      "\n"
     ]
    }
   ],
   "source": [
    "print(url.text)"
   ]
  },
  {
   "cell_type": "code",
   "execution_count": 28,
   "metadata": {},
   "outputs": [],
   "source": [
    "soup = BeautifulSoup(url.text,\"html.parser\")"
   ]
  },
  {
   "cell_type": "code",
   "execution_count": 29,
   "metadata": {},
   "outputs": [],
   "source": [
    "sel = soup.select(\"div.title a\")"
   ]
  },
  {
   "cell_type": "code",
   "execution_count": 30,
   "metadata": {},
   "outputs": [
    {
     "name": "stdout",
     "output_type": "stream",
     "text": [
      "[<a href=\"/bbs/joke/M.1538637464.A.530.html\">[猜謎]颱風就像什麼一樣？</a>, <a href=\"/bbs/joke/M.1538642904.A.D06.html\">Re: [ＸＤ] 白海豚九宮格</a>, <a href=\"/bbs/joke/M.1538643374.A.708.html\">[ＸＤ] 西索的天敵</a>, <a href=\"/bbs/joke/M.1538643718.A.E6A.html\">Re: [ＸＤ] 寄生迷</a>, <a href=\"/bbs/joke/M.1522053106.A.755.html\">[公告] joke版規 (2018/03/26 更新)</a>]\n"
     ]
    }
   ],
   "source": [
    "print(sel)"
   ]
  },
  {
   "cell_type": "code",
   "execution_count": 31,
   "metadata": {},
   "outputs": [
    {
     "name": "stdout",
     "output_type": "stream",
     "text": [
      "<a href=\"/bbs/joke/M.1538637464.A.530.html\">[猜謎]颱風就像什麼一樣？</a>\n",
      "<a href=\"/bbs/joke/M.1538642904.A.D06.html\">Re: [ＸＤ] 白海豚九宮格</a>\n",
      "<a href=\"/bbs/joke/M.1538643374.A.708.html\">[ＸＤ] 西索的天敵</a>\n",
      "<a href=\"/bbs/joke/M.1538643718.A.E6A.html\">Re: [ＸＤ] 寄生迷</a>\n",
      "<a href=\"/bbs/joke/M.1522053106.A.755.html\">[公告] joke版規 (2018/03/26 更新)</a>\n"
     ]
    }
   ],
   "source": [
    "for s in sel:\n",
    "    print(s)"
   ]
  },
  {
   "cell_type": "code",
   "execution_count": 32,
   "metadata": {},
   "outputs": [
    {
     "data": {
      "text/plain": [
       "'[公告] joke版規 (2018/03/26 更新)'"
      ]
     },
     "execution_count": 32,
     "metadata": {},
     "output_type": "execute_result"
    }
   ],
   "source": [
    "s.text"
   ]
  },
  {
   "cell_type": "code",
   "execution_count": 33,
   "metadata": {},
   "outputs": [
    {
     "data": {
      "text/plain": [
       "'/bbs/joke/M.1522053106.A.755.html'"
      ]
     },
     "execution_count": 33,
     "metadata": {},
     "output_type": "execute_result"
    }
   ],
   "source": [
    "s[\"href\"]"
   ]
  },
  {
   "cell_type": "code",
   "execution_count": 34,
   "metadata": {},
   "outputs": [
    {
     "name": "stdout",
     "output_type": "stream",
     "text": [
      "/bbs/joke/M.1538637464.A.530.html [猜謎]颱風就像什麼一樣？\n",
      "/bbs/joke/M.1538642904.A.D06.html Re: [ＸＤ] 白海豚九宮格\n",
      "/bbs/joke/M.1538643374.A.708.html [ＸＤ] 西索的天敵\n",
      "/bbs/joke/M.1538643718.A.E6A.html Re: [ＸＤ] 寄生迷\n",
      "/bbs/joke/M.1522053106.A.755.html [公告] joke版規 (2018/03/26 更新)\n"
     ]
    }
   ],
   "source": [
    "for s in sel:\n",
    "    print(s[\"href\"],s.text)"
   ]
  },
  {
   "cell_type": "markdown",
   "metadata": {},
   "source": [
    "# 這只是抓一頁的資料"
   ]
  },
  {
   "cell_type": "code",
   "execution_count": 35,
   "metadata": {},
   "outputs": [
    {
     "name": "stdout",
     "output_type": "stream",
     "text": [
      "/bbs/joke/M.1538637464.A.530.html [猜謎]颱風就像什麼一樣？\n",
      "/bbs/joke/M.1538642904.A.D06.html Re: [ＸＤ] 白海豚九宮格\n",
      "/bbs/joke/M.1538643374.A.708.html [ＸＤ] 西索的天敵\n",
      "/bbs/joke/M.1538643718.A.E6A.html Re: [ＸＤ] 寄生迷\n",
      "/bbs/joke/M.1522053106.A.755.html [公告] joke版規 (2018/03/26 更新)\n"
     ]
    }
   ],
   "source": [
    "import requests\n",
    "from bs4 import BeautifulSoup\n",
    "r = requests.get(\"https://www.ptt.cc/bbs/joke/index.html\")\n",
    "soup = BeautifulSoup(r.text, \"html.parser\")\n",
    "sel = soup.select(\"div.title a\")\n",
    "for s in sel:\n",
    "    print(s[\"href\"], s.text)"
   ]
  },
  {
   "cell_type": "markdown",
   "metadata": {},
   "source": [
    "# 抓多頁\n",
    "簡單來說就是讓get的URL 可以變成上一頁的URL 再進行爬蟲(此示範為向上爬3頁)"
   ]
  },
  {
   "cell_type": "code",
   "execution_count": 40,
   "metadata": {},
   "outputs": [
    {
     "name": "stdout",
     "output_type": "stream",
     "text": [
      "https://www.ptt.cc/bbs/joke/index.html\n",
      "/bbs/joke/M.1538637464.A.530.html [猜謎]颱風就像什麼一樣？\n",
      "/bbs/joke/M.1538642904.A.D06.html Re: [ＸＤ] 白海豚九宮格\n",
      "/bbs/joke/M.1538643374.A.708.html [ＸＤ] 西索的天敵\n",
      "/bbs/joke/M.1538643718.A.E6A.html Re: [ＸＤ] 寄生迷\n",
      "/bbs/joke/M.1522053106.A.755.html [公告] joke版規 (2018/03/26 更新)\n",
      "https://www.ptt.cc/bbs/joke/index6080.html\n",
      "/bbs/joke/M.1538623115.A.44C.html Fw: [猜謎] 這個數列去猜數字超難的\n",
      "/bbs/joke/M.1538623123.A.CC9.html [耍冷] 為什麼OL喜歡種仙人掌\n",
      "/bbs/joke/M.1538623540.A.B1A.html Re: [猜謎] 孔子告老子\n",
      "/bbs/joke/M.1538625708.A.DC1.html Re: [猜謎] 孔子告老子\n",
      "/bbs/joke/M.1538626858.A.AD5.html [趣事] 有趣分享集(10-4)\n",
      "/bbs/joke/M.1538626865.A.E34.html Re: [猜謎] 孔子告老子\n",
      "/bbs/joke/M.1538627227.A.3D9.html [猜謎] 哪一位藝人中午不吃飯?\n",
      "/bbs/joke/M.1538627514.A.A85.html [耍冷] 為什麼鄭問都沒八卦？\n",
      "/bbs/joke/M.1538628233.A.8C4.html Re: [猜謎] 孔子告老子\n",
      "/bbs/joke/M.1538628695.A.F8B.html Re: [猜謎] 孔子告老子\n",
      "/bbs/joke/M.1538630771.A.483.html Re: [笑話] 香腸\n",
      "/bbs/joke/M.1538632339.A.4BD.html [笑話] 你有三個願望\n",
      "/bbs/joke/M.1538632628.A.EE5.html [猜謎] 臺灣誰廢話最多？\n",
      "/bbs/joke/M.1538633946.A.481.html [耍冷] 誰怕火？\n",
      "/bbs/joke/M.1538634735.A.650.html [猜謎] 為什麼一堆人抹黑柯p?\n",
      "/bbs/joke/M.1538634976.A.246.html [ＸＤ] 三年一度的班際比賽QQ\n",
      "/bbs/joke/M.1538636423.A.6F4.html Re: [猜謎] 孔子告老子\n",
      "https://www.ptt.cc/bbs/joke/index6079.html\n",
      "/bbs/joke/M.1538578936.A.D2D.html [耍冷] 賴清德\n",
      "/bbs/joke/M.1538581234.A.626.html [猜謎] 孔子告老子\n",
      "/bbs/joke/M.1538583254.A.F6B.html [笑話] 葉克膜\n",
      "/bbs/joke/M.1538583441.A.CDE.html Re: [猜謎] 孔子告老子\n",
      "/bbs/joke/M.1538583954.A.3A9.html [猜謎] 哪個日期最值得開心？(意想不到的結果)\n",
      "/bbs/joke/M.1538586008.A.BE3.html [耍冷] 小明去臺中\n",
      "/bbs/joke/M.1538587679.A.184.html [ＸＤ] 狗大便\n",
      "/bbs/joke/M.1538590284.A.BD1.html Re: [猜謎] 哪種人最不受網拍賣家歡迎\n",
      "/bbs/joke/M.1538599720.A.F14.html Re: [笑話] 香腸\n",
      "/bbs/joke/M.1538603019.A.A2A.html Re: [笑話] 香腸\n",
      "/bbs/joke/M.1538610018.A.299.html [耍冷] 和朋友打架的時候\n",
      "/bbs/joke/M.1538610201.A.9CC.html [豪洨] 誠摯終招嫉，馬扁騙臺灣\n",
      "/bbs/joke/M.1538610701.A.9E3.html [kuso] 經濟92 (醫學七)\n",
      "/bbs/joke/M.1538617717.A.C30.html Re: [猜謎] 孔子告老子\n",
      "/bbs/joke/M.1538618885.A.FAD.html [猜謎] 腦部被捐贈\n",
      "/bbs/joke/M.1538619674.A.129.html [耍冷] 臺大哪個處室最沒管用？\n",
      "/bbs/joke/M.1538620158.A.87D.html [kuso] 決鬥吧！城之內！\n",
      "/bbs/joke/M.1538622380.A.53E.html Fw: [新聞] 恐怖份子愛用豐田車 溫朗東：Toyota需負\n"
     ]
    }
   ],
   "source": [
    "import requests\n",
    "from bs4 import BeautifulSoup\n",
    "url = \"https://www.ptt.cc/bbs/joke/index.html\"\n",
    "for i in range(3):\n",
    "    r = requests.get(url)\n",
    "    soup = BeautifulSoup(r.text,\"html.parser\")\n",
    "    sel = soup.select(\"div.title a\")\n",
    "    u = soup.select(\"div.btn-group.btn-group-paging a\")\n",
    "    print (\"本頁的URL為\"+url)\n",
    "    url = \"https://www.ptt.cc\"+ u[1][\"href\"]\n",
    "    \n",
    "    for s in sel:\n",
    "        print(s[\"href\"],s.text)"
   ]
  },
  {
   "cell_type": "code",
   "execution_count": 28,
   "metadata": {},
   "outputs": [
    {
     "name": "stdout",
     "output_type": "stream",
     "text": [
      "送出的擋頭: \u001c",
      " {'User-Agent': 'python-requests/2.19.1', 'Accept-Encoding': 'gzip, deflate', 'Accept': '*/*', 'Connection': 'keep-alive', 'Referer': 'https://signin.fcu.edu.tw/clockin/login.aspx'}\n",
      "收到的擋頭: {'Cache-Control': 'private', 'Content-Type': 'text/html; charset=utf-8', 'Server': 'Microsoft-IIS/8.5', 'X-AspNet-Version': '4.0.30319', 'Date': 'Sun, 07 Oct 2018 07:41:56 GMT', 'ntCoent-Length': '3919', 'Content-Encoding': 'gzip', 'Content-Length': '1705'}\n"
     ]
    }
   ],
   "source": [
    "import requests\n",
    "from bs4 import BeautifulSoup\n",
    "\n",
    "s = requests.Session()\n",
    "loginPage = s.get(\"https://signin.fcu.edu.tw/clockin/login.aspx\")\n",
    "bs = BeautifulSoup(loginPage.text, \"html.parser\")\n",
    "loginData = {\n",
    "    \"__EVENTTARGET\":\"\",\n",
    "    \"__EVENTARGUMENT\":\"\",\n",
    "    \"__VIEWSTATE\":bs.select(\"#__VIEWSTATE\")[0][\"value\"],\n",
    "    \"__VIEWSTATEGENERATOR\":bs.select(\"#__VIEWSTATEGENERATOR\")[0][\"value\"],\n",
    "    \"__EVENTVALIDATION\":bs.select(\"#__EVENTVALIDATION\")[0][\"value\"],\n",
    "    \"LoginLdap$UserName\":\"D0449733\",\n",
    "    \"LoginLdap$Password\":\"As860117\",\n",
    "    \"LoginLdap$LoginButton\":\"登入\"\n",
    "}\n",
    "s.headers.update({\"Referer\":\"https://signin.fcu.edu.tw/clockin/login.aspx\"})\n",
    "print(\"送出的擋頭: \\034\",s.headers)\n",
    "a = s.post(\"https://signin.fcu.edu.tw/clockin/login.aspx\", data=loginData)\n",
    "print(\"收到的擋頭:\",a.headers)\n",
    "clockin = s.get(\"https://signin.fcu.edu.tw/clockin/Student.aspx\")\n",
    "#print(clockin.text)"
   ]
  },
  {
   "cell_type": "code",
   "execution_count": null,
   "metadata": {},
   "outputs": [],
   "source": []
  }
 ],
 "metadata": {
  "kernelspec": {
   "display_name": "Python 3",
   "language": "python",
   "name": "python3"
  },
  "language_info": {
   "codemirror_mode": {
    "name": "ipython",
    "version": 3
   },
   "file_extension": ".py",
   "mimetype": "text/x-python",
   "name": "python",
   "nbconvert_exporter": "python",
   "pygments_lexer": "ipython3",
   "version": "3.6.6"
  }
 },
 "nbformat": 4,
 "nbformat_minor": 2
}
