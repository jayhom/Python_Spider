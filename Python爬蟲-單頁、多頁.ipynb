{
 "cells": [
  {
   "cell_type": "code",
   "execution_count": 8,
   "metadata": {},
   "outputs": [],
   "source": [
    "import requests\n",
    "from bs4 import BeautifulSoup"
   ]
  },
  {
   "cell_type": "markdown",
   "metadata": {},
   "source": [
    "# 為何要用BeautifulSoup\n",
    "BeautifulSoup的select可以用CSS的語法來處理得到的原始碼\n",
    "選取標題部分，存到變數sel\n",
    "所以我們先講css語法"
   ]
  },
  {
   "cell_type": "code",
   "execution_count": 26,
   "metadata": {},
   "outputs": [],
   "source": [
    "url=requests.get(\"https://www.ptt.cc/bbs/joke/index.html\")"
   ]
  },
  {
   "cell_type": "code",
   "execution_count": 27,
   "metadata": {},
   "outputs": [
    {
     "name": "stdout",
     "output_type": "stream",
     "text": [
      "<!DOCTYPE html>\n",
      "<html>\n",
      "\t<head>\n",
      "\t\t<meta charset=\"utf-8\">\n",
      "\t\t\n",
      "\n",
      "<meta name=\"viewport\" content=\"width=device-width, initial-scale=1\">\n",
      "\n",
      "<title>看板 joke 文章列表 - 批踢踢實業坊</title>\n",
      "\n",
      "<link rel=\"stylesheet\" type=\"text/css\" href=\"//images.ptt.cc/bbs/v2.25/bbs-common.css\">\n",
      "<link rel=\"stylesheet\" type=\"text/css\" href=\"//images.ptt.cc/bbs/v2.25/bbs-base.css\" media=\"screen\">\n",
      "<link rel=\"stylesheet\" type=\"text/css\" href=\"//images.ptt.cc/bbs/v2.25/bbs-custom.css\">\n",
      "<link rel=\"stylesheet\" type=\"text/css\" href=\"//images.ptt.cc/bbs/v2.25/pushstream.css\" media=\"screen\">\n",
      "<link rel=\"stylesheet\" type=\"text/css\" href=\"//images.ptt.cc/bbs/v2.25/bbs-print.css\" media=\"print\">\n",
      "\n",
      "\n",
      "\n",
      "\n",
      "\t</head>\n",
      "    <body>\n",
      "\t\t\n",
      "<div id=\"topbar-container\">\n",
      "\t<div id=\"topbar\" class=\"bbs-content\">\n",
      "\t\t<a id=\"logo\" href=\"/bbs/\">批踢踢實業坊</a>\n",
      "\t\t<span>&rsaquo;</span>\n",
      "\t\t<a class=\"board\" href=\"/bbs/joke/index.html\"><span class=\"board-label\">看板 </span>joke</a>\n",
      "\t\t<a class=\"right small\" href=\"/about.html\">關於我們</a>\n",
      "\t\t<a class=\"right small\" href=\"/contact.html\">聯絡資訊</a>\n",
      "\t</div>\n",
      "</div>\n",
      "\n",
      "<div id=\"main-container\">\n",
      "\t<div id=\"action-bar-container\">\n",
      "\t\t<div class=\"action-bar\">\n",
      "\t\t\t<div class=\"btn-group btn-group-dir\">\n",
      "\t\t\t\t<a class=\"btn selected\" href=\"/bbs/joke/index.html\">看板</a>\n",
      "\t\t\t\t<a class=\"btn\" href=\"/man/joke/index.html\">精華區</a>\n",
      "\t\t\t</div>\n",
      "\t\t\t<div class=\"btn-group btn-group-paging\">\n",
      "\t\t\t\t<a class=\"btn wide\" href=\"/bbs/joke/index1.html\">最舊</a>\n",
      "\t\t\t\t<a class=\"btn wide\" href=\"/bbs/joke/index6080.html\">&lsaquo; 上頁</a>\n",
      "\t\t\t\t<a class=\"btn wide disabled\">下頁 &rsaquo;</a>\n",
      "\t\t\t\t<a class=\"btn wide\" href=\"/bbs/joke/index.html\">最新</a>\n",
      "\t\t\t</div>\n",
      "\t\t</div>\n",
      "\t</div>\n",
      "\n",
      "\t<div class=\"r-list-container action-bar-margin bbs-screen\">\n",
      "\t\t<div class=\"search-bar\">\n",
      "\t\t\t<form type=\"get\" action=\"search\" id=\"search-bar\">\n",
      "\t\t\t\t<input class=\"query\" type=\"text\" name=\"q\" value=\"\" placeholder=\"搜尋文章&#x22ef;\">\n",
      "\t\t\t</form>\n",
      "\t\t</div>\n",
      "\n",
      "\t\t\n",
      "\t\t\n",
      "            \n",
      "        \n",
      "        \n",
      "\t\t<div class=\"r-ent\">\n",
      "\t\t\t<div class=\"nrec\"><span class=\"hl f2\">9</span></div>\n",
      "\t\t\t<div class=\"title\">\n",
      "\t\t\t\n",
      "\t\t\t\t<a href=\"/bbs/joke/M.1538637464.A.530.html\">[猜謎]颱風就像什麼一樣？</a>\n",
      "\t\t\t\n",
      "\t\t\t</div>\n",
      "\t\t\t<div class=\"meta\">\n",
      "\t\t\t\t<div class=\"author\">Hanedas</div>\n",
      "\t\t\t\t<div class=\"article-menu\">\n",
      "\t\t\t\t\t\n",
      "\t\t\t\t\t<div class=\"trigger\">&#x22ef;</div>\n",
      "\t\t\t\t\t<div class=\"dropdown\">\n",
      "\t\t\t\t\t\t<div class=\"item\"><a href=\"/bbs/joke/search?q=thread%3A%5B%E7%8C%9C%E8%AC%8E%5D%E9%A2%B1%E9%A2%A8%E5%B0%B1%E5%83%8F%E4%BB%80%E9%BA%BC%E4%B8%80%E6%A8%A3%EF%BC%9F\">搜尋同標題文章</a></div>\n",
      "\t\t\t\t\t\t\n",
      "\t\t\t\t\t\t<div class=\"item\"><a href=\"/bbs/joke/search?q=author%3AHanedas\">搜尋看板內 Hanedas 的文章</a></div>\n",
      "\t\t\t\t\t\t\n",
      "\t\t\t\t\t</div>\n",
      "\t\t\t\t\t\n",
      "\t\t\t\t</div>\n",
      "\t\t\t\t<div class=\"date\">10/04</div>\n",
      "\t\t\t\t<div class=\"mark\"></div>\n",
      "\t\t\t</div>\n",
      "\t\t</div>\n",
      "\n",
      "\t\t\n",
      "            \n",
      "        \n",
      "        \n",
      "\t\t<div class=\"r-ent\">\n",
      "\t\t\t<div class=\"nrec\"></div>\n",
      "\t\t\t<div class=\"title\">\n",
      "\t\t\t\n",
      "\t\t\t\t<a href=\"/bbs/joke/M.1538642904.A.D06.html\">Re: [ＸＤ] 白海豚九宮格</a>\n",
      "\t\t\t\n",
      "\t\t\t</div>\n",
      "\t\t\t<div class=\"meta\">\n",
      "\t\t\t\t<div class=\"author\">asd26689900</div>\n",
      "\t\t\t\t<div class=\"article-menu\">\n",
      "\t\t\t\t\t\n",
      "\t\t\t\t\t<div class=\"trigger\">&#x22ef;</div>\n",
      "\t\t\t\t\t<div class=\"dropdown\">\n",
      "\t\t\t\t\t\t<div class=\"item\"><a href=\"/bbs/joke/search?q=thread%3A%5B%EF%BC%B8%EF%BC%A4%5D&#43;%E7%99%BD%E6%B5%B7%E8%B1%9A%E4%B9%9D%E5%AE%AE%E6%A0%BC\">搜尋同標題文章</a></div>\n",
      "\t\t\t\t\t\t\n",
      "\t\t\t\t\t\t<div class=\"item\"><a href=\"/bbs/joke/search?q=author%3Aasd26689900\">搜尋看板內 asd26689900 的文章</a></div>\n",
      "\t\t\t\t\t\t\n",
      "\t\t\t\t\t</div>\n",
      "\t\t\t\t\t\n",
      "\t\t\t\t</div>\n",
      "\t\t\t\t<div class=\"date\">10/04</div>\n",
      "\t\t\t\t<div class=\"mark\"></div>\n",
      "\t\t\t</div>\n",
      "\t\t</div>\n",
      "\n",
      "\t\t\n",
      "            \n",
      "        \n",
      "        \n",
      "\t\t<div class=\"r-ent\">\n",
      "\t\t\t<div class=\"nrec\"></div>\n",
      "\t\t\t<div class=\"title\">\n",
      "\t\t\t\n",
      "\t\t\t\t<a href=\"/bbs/joke/M.1538643374.A.708.html\">[ＸＤ] 西索的天敵</a>\n",
      "\t\t\t\n",
      "\t\t\t</div>\n",
      "\t\t\t<div class=\"meta\">\n",
      "\t\t\t\t<div class=\"author\">magic1104</div>\n",
      "\t\t\t\t<div class=\"article-menu\">\n",
      "\t\t\t\t\t\n",
      "\t\t\t\t\t<div class=\"trigger\">&#x22ef;</div>\n",
      "\t\t\t\t\t<div class=\"dropdown\">\n",
      "\t\t\t\t\t\t<div class=\"item\"><a href=\"/bbs/joke/search?q=thread%3A%5B%EF%BC%B8%EF%BC%A4%5D&#43;%E8%A5%BF%E7%B4%A2%E7%9A%84%E5%A4%A9%E6%95%B5\">搜尋同標題文章</a></div>\n",
      "\t\t\t\t\t\t\n",
      "\t\t\t\t\t\t<div class=\"item\"><a href=\"/bbs/joke/search?q=author%3Amagic1104\">搜尋看板內 magic1104 的文章</a></div>\n",
      "\t\t\t\t\t\t\n",
      "\t\t\t\t\t</div>\n",
      "\t\t\t\t\t\n",
      "\t\t\t\t</div>\n",
      "\t\t\t\t<div class=\"date\">10/04</div>\n",
      "\t\t\t\t<div class=\"mark\"></div>\n",
      "\t\t\t</div>\n",
      "\t\t</div>\n",
      "\n",
      "\t\t\n",
      "            \n",
      "        \n",
      "        \n",
      "\t\t<div class=\"r-ent\">\n",
      "\t\t\t<div class=\"nrec\"></div>\n",
      "\t\t\t<div class=\"title\">\n",
      "\t\t\t\n",
      "\t\t\t\t<a href=\"/bbs/joke/M.1538643718.A.E6A.html\">Re: [ＸＤ] 寄生迷</a>\n",
      "\t\t\t\n",
      "\t\t\t</div>\n",
      "\t\t\t<div class=\"meta\">\n",
      "\t\t\t\t<div class=\"author\">Charmander55</div>\n",
      "\t\t\t\t<div class=\"article-menu\">\n",
      "\t\t\t\t\t\n",
      "\t\t\t\t\t<div class=\"trigger\">&#x22ef;</div>\n",
      "\t\t\t\t\t<div class=\"dropdown\">\n",
      "\t\t\t\t\t\t<div class=\"item\"><a href=\"/bbs/joke/search?q=thread%3A%5B%EF%BC%B8%EF%BC%A4%5D&#43;%E5%AF%84%E7%94%9F%E8%BF%B7\">搜尋同標題文章</a></div>\n",
      "\t\t\t\t\t\t\n",
      "\t\t\t\t\t\t<div class=\"item\"><a href=\"/bbs/joke/search?q=author%3ACharmander55\">搜尋看板內 Charmander55 的文章</a></div>\n",
      "\t\t\t\t\t\t\n",
      "\t\t\t\t\t</div>\n",
      "\t\t\t\t\t\n",
      "\t\t\t\t</div>\n",
      "\t\t\t\t<div class=\"date\">10/04</div>\n",
      "\t\t\t\t<div class=\"mark\"></div>\n",
      "\t\t\t</div>\n",
      "\t\t</div>\n",
      "\n",
      "\t\t\n",
      "        \n",
      "        <div class=\"r-list-sep\"></div>\n",
      "            \n",
      "                \n",
      "        \n",
      "        \n",
      "\t\t<div class=\"r-ent\">\n",
      "\t\t\t<div class=\"nrec\"></div>\n",
      "\t\t\t<div class=\"title\">\n",
      "\t\t\t\n",
      "\t\t\t\t<a href=\"/bbs/joke/M.1522053106.A.755.html\">[公告] joke版規 (2018/03/26 更新)</a>\n",
      "\t\t\t\n",
      "\t\t\t</div>\n",
      "\t\t\t<div class=\"meta\">\n",
      "\t\t\t\t<div class=\"author\">Armour</div>\n",
      "\t\t\t\t<div class=\"article-menu\">\n",
      "\t\t\t\t\t\n",
      "\t\t\t\t\t<div class=\"trigger\">&#x22ef;</div>\n",
      "\t\t\t\t\t<div class=\"dropdown\">\n",
      "\t\t\t\t\t\t<div class=\"item\"><a href=\"/bbs/joke/search?q=thread%3A%5B%E5%85%AC%E5%91%8A%5D&#43;joke%E7%89%88%E8%A6%8F&#43;%282018%2F03%2F26&#43;%E6%9B%B4%E6%96%B0%29\">搜尋同標題文章</a></div>\n",
      "\t\t\t\t\t\t\n",
      "\t\t\t\t\t\t<div class=\"item\"><a href=\"/bbs/joke/search?q=author%3AArmour\">搜尋看板內 Armour 的文章</a></div>\n",
      "\t\t\t\t\t\t\n",
      "\t\t\t\t\t</div>\n",
      "\t\t\t\t\t\n",
      "\t\t\t\t</div>\n",
      "\t\t\t\t<div class=\"date\"> 3/26</div>\n",
      "\t\t\t\t<div class=\"mark\">!</div>\n",
      "\t\t\t</div>\n",
      "\t\t</div>\n",
      "\n",
      "            \n",
      "        \n",
      "\t</div>\n",
      "\n",
      "    \n",
      "</div>\n",
      "\n",
      "\t\t\n",
      "\n",
      "<script>\n",
      "  (function(i,s,o,g,r,a,m){i['GoogleAnalyticsObject']=r;i[r]=i[r]||function(){\n",
      "  (i[r].q=i[r].q||[]).push(arguments)},i[r].l=1*new Date();a=s.createElement(o),\n",
      "  m=s.getElementsByTagName(o)[0];a.async=1;a.src=g;m.parentNode.insertBefore(a,m)\n",
      "  })(window,document,'script','https://www.google-analytics.com/analytics.js','ga');\n",
      "\n",
      "  ga('create', 'UA-32365737-1', {\n",
      "    cookieDomain: 'ptt.cc',\n",
      "    legacyCookieDomain: 'ptt.cc'\n",
      "  });\n",
      "  ga('send', 'pageview');\n",
      "</script>\n",
      "\n",
      "\n",
      "\t\t\n",
      "<script src=\"//ajax.googleapis.com/ajax/libs/jquery/2.1.1/jquery.min.js\"></script>\n",
      "<script src=\"//images.ptt.cc/bbs/v2.25/bbs.js\"></script>\n",
      "\n",
      "    </body>\n",
      "</html>\n",
      "\n"
     ]
    }
   ],
   "source": [
    "print(url.text)"
   ]
  },
  {
   "cell_type": "code",
   "execution_count": 28,
   "metadata": {},
   "outputs": [],
   "source": [
    "soup = BeautifulSoup(url.text,\"html.parser\")"
   ]
  },
  {
   "cell_type": "code",
   "execution_count": 29,
   "metadata": {},
   "outputs": [],
   "source": [
    "sel = soup.select(\"div.title a\")"
   ]
  },
  {
   "cell_type": "code",
   "execution_count": 30,
   "metadata": {},
   "outputs": [
    {
     "name": "stdout",
     "output_type": "stream",
     "text": [
      "[<a href=\"/bbs/joke/M.1538637464.A.530.html\">[猜謎]颱風就像什麼一樣？</a>, <a href=\"/bbs/joke/M.1538642904.A.D06.html\">Re: [ＸＤ] 白海豚九宮格</a>, <a href=\"/bbs/joke/M.1538643374.A.708.html\">[ＸＤ] 西索的天敵</a>, <a href=\"/bbs/joke/M.1538643718.A.E6A.html\">Re: [ＸＤ] 寄生迷</a>, <a href=\"/bbs/joke/M.1522053106.A.755.html\">[公告] joke版規 (2018/03/26 更新)</a>]\n"
     ]
    }
   ],
   "source": [
    "print(sel)"
   ]
  },
  {
   "cell_type": "code",
   "execution_count": 31,
   "metadata": {},
   "outputs": [
    {
     "name": "stdout",
     "output_type": "stream",
     "text": [
      "<a href=\"/bbs/joke/M.1538637464.A.530.html\">[猜謎]颱風就像什麼一樣？</a>\n",
      "<a href=\"/bbs/joke/M.1538642904.A.D06.html\">Re: [ＸＤ] 白海豚九宮格</a>\n",
      "<a href=\"/bbs/joke/M.1538643374.A.708.html\">[ＸＤ] 西索的天敵</a>\n",
      "<a href=\"/bbs/joke/M.1538643718.A.E6A.html\">Re: [ＸＤ] 寄生迷</a>\n",
      "<a href=\"/bbs/joke/M.1522053106.A.755.html\">[公告] joke版規 (2018/03/26 更新)</a>\n"
     ]
    }
   ],
   "source": [
    "for s in sel:\n",
    "    print(s)"
   ]
  },
  {
   "cell_type": "code",
   "execution_count": 32,
   "metadata": {},
   "outputs": [
    {
     "data": {
      "text/plain": [
       "'[公告] joke版規 (2018/03/26 更新)'"
      ]
     },
     "execution_count": 32,
     "metadata": {},
     "output_type": "execute_result"
    }
   ],
   "source": [
    "s.text"
   ]
  },
  {
   "cell_type": "code",
   "execution_count": 33,
   "metadata": {},
   "outputs": [
    {
     "data": {
      "text/plain": [
       "'/bbs/joke/M.1522053106.A.755.html'"
      ]
     },
     "execution_count": 33,
     "metadata": {},
     "output_type": "execute_result"
    }
   ],
   "source": [
    "s[\"href\"]"
   ]
  },
  {
   "cell_type": "code",
   "execution_count": 34,
   "metadata": {},
   "outputs": [
    {
     "name": "stdout",
     "output_type": "stream",
     "text": [
      "/bbs/joke/M.1538637464.A.530.html [猜謎]颱風就像什麼一樣？\n",
      "/bbs/joke/M.1538642904.A.D06.html Re: [ＸＤ] 白海豚九宮格\n",
      "/bbs/joke/M.1538643374.A.708.html [ＸＤ] 西索的天敵\n",
      "/bbs/joke/M.1538643718.A.E6A.html Re: [ＸＤ] 寄生迷\n",
      "/bbs/joke/M.1522053106.A.755.html [公告] joke版規 (2018/03/26 更新)\n"
     ]
    }
   ],
   "source": [
    "for s in sel:\n",
    "    print(s[\"href\"],s.text)"
   ]
  },
  {
   "cell_type": "markdown",
   "metadata": {},
   "source": [
    "# 這只是抓一頁的資料"
   ]
  },
  {
   "cell_type": "code",
   "execution_count": 35,
   "metadata": {},
   "outputs": [
    {
     "name": "stdout",
     "output_type": "stream",
     "text": [
      "/bbs/joke/M.1538637464.A.530.html [猜謎]颱風就像什麼一樣？\n",
      "/bbs/joke/M.1538642904.A.D06.html Re: [ＸＤ] 白海豚九宮格\n",
      "/bbs/joke/M.1538643374.A.708.html [ＸＤ] 西索的天敵\n",
      "/bbs/joke/M.1538643718.A.E6A.html Re: [ＸＤ] 寄生迷\n",
      "/bbs/joke/M.1522053106.A.755.html [公告] joke版規 (2018/03/26 更新)\n"
     ]
    }
   ],
   "source": [
    "import requests\n",
    "from bs4 import BeautifulSoup\n",
    "r = requests.get(\"https://www.ptt.cc/bbs/joke/index.html\")\n",
    "soup = BeautifulSoup(r.text, \"html.parser\")\n",
    "sel = soup.select(\"div.title a\")\n",
    "for s in sel:\n",
    "    print(s[\"href\"], s.text)"
   ]
  },
  {
   "cell_type": "markdown",
   "metadata": {},
   "source": [
    "# 抓多頁\n",
    "簡單來說就是讓get的URL 可以變成上一頁的URL 再進行爬蟲(此示範為向上爬3頁)"
   ]
  },
  {
   "cell_type": "code",
   "execution_count": 2,
   "metadata": {},
   "outputs": [
    {
     "name": "stdout",
     "output_type": "stream",
     "text": [
      "本頁的URL為https://www.ptt.cc/bbs/joke/index.html\n",
      "/bbs/joke/M.1539353729.A.B19.html Re: [笑話] 偏僻的小村落裡有一位陶藝大師\n",
      "/bbs/joke/M.1539353978.A.125.html Re: [猜謎] 一句話一秒惹怒大賽\n",
      "/bbs/joke/M.1539354107.A.7E7.html Re: [猜謎] 一句話一秒惹怒大賽\n",
      "/bbs/joke/M.1539354236.A.F46.html Re: [笑話] 偏僻的小村落裡有一位陶藝大師\n",
      "/bbs/joke/M.1539354503.A.B20.html Re: [猜謎] 一句話恐怖故事大賽\n",
      "/bbs/joke/M.1539354539.A.5B7.html Re: [猜謎] 一句話一秒惹怒大賽\n",
      "/bbs/joke/M.1539354570.A.FF0.html [猜謎] 替人划船擺渡的人離開中國後\n",
      "/bbs/joke/M.1539354652.A.52F.html Re: [笑話] 偏僻的小村落裡有一位陶藝大師\n",
      "/bbs/joke/M.1539354742.A.69E.html Re: [猜謎] 一句話恐怖故事大賽\n",
      "/bbs/joke/M.1539354859.A.57B.html [ＸＤ] 賴清德監考\n",
      "/bbs/joke/M.1539355154.A.538.html R: 一句話一秒惹怒大賽\n",
      "/bbs/joke/M.1539356115.A.E8D.html Re: [笑話] 偏僻的小村落裡有一位陶藝大師\n",
      "/bbs/joke/M.1539356269.A.EE7.html Re: [猜謎] 一句話一秒惹怒大賽\n",
      "/bbs/joke/M.1539356459.A.78E.html Re: [猜謎] 一句話恐怖故事大賽\n",
      "/bbs/joke/M.1539356598.A.6D3.html [猜謎] 小明借五塊錢\n",
      "/bbs/joke/M.1539358929.A.200.html [笑話] 如何快速成為民進黨人\n",
      "/bbs/joke/M.1539359186.A.0E0.html Re: [猜謎] 一句話一秒惹怒大賽\n",
      "/bbs/joke/M.1522053106.A.755.html [公告] joke版規 (2018/03/26 更新)\n",
      "本頁的URL為https://www.ptt.cc/bbs/joke/index6117.html\n",
      "/bbs/joke/M.1539344459.A.29E.html Re: [猜謎] 一句話一秒惹怒大賽\n",
      "/bbs/joke/M.1539344573.A.FD4.html Re: [猜謎] 一句話恐怖故事大賽\n",
      "/bbs/joke/M.1539345622.A.6B2.html [ＸＤ] 上班不要看-天下第一蛤EP02\n",
      "/bbs/joke/M.1539346633.A.8CD.html [猜謎] 哪一位知名藝人超過五十五歲還是處男？\n",
      "/bbs/joke/M.1539346759.A.B4B.html [猜謎] 一句話笑死人故事大賽\n",
      "/bbs/joke/M.1539347076.A.CFC.html Re: [猜謎] 一句話一秒惹怒大賽\n",
      "/bbs/joke/M.1539347182.A.107.html Re: [猜謎] 一句話一秒惹怒大賽\n",
      "/bbs/joke/M.1539347392.A.7D1.html Re: [猜謎] 一句話一秒惹怒大賽\n",
      "/bbs/joke/M.1539347586.A.435.html Re: [猜謎] 一句話一秒惹怒大賽\n",
      "/bbs/joke/M.1539347835.A.BBE.html Re: [一萬p] 一句話一秒惹怒大賽\n",
      "/bbs/joke/M.1539348451.A.139.html [笑話] 小明在考試\n",
      "/bbs/joke/M.1539348773.A.47B.html Re: [猜謎] 一句話一秒惹怒大賽\n",
      "/bbs/joke/M.1539348854.A.961.html Re: [猜謎] 一句話恐怖故事大賽\n",
      "/bbs/joke/M.1539349082.A.DEB.html [笑話] 迷幻蒼蠅\n",
      "/bbs/joke/M.1539351429.A.799.html [笑話] 偏僻的小村落裡有一位陶藝大師\n",
      "/bbs/joke/M.1539351611.A.6B1.html Re: [笑話] 偏僻的小村落裡有一位陶藝大師\n",
      "/bbs/joke/M.1539353606.A.21C.html Re: [猜謎] 一句話恐怖故事大賽\n",
      "/bbs/joke/M.1539353705.A.6AB.html Re: [猜謎] 一句話恐怖故事大賽\n"
     ]
    }
   ],
   "source": [
    "import requests\n",
    "from bs4 import BeautifulSoup\n",
    "url = \"https://www.ptt.cc/bbs/joke/index.html\"\n",
    "for i in range(2):\n",
    "    r = requests.get(url)\n",
    "    soup = BeautifulSoup(r.text,\"html.parser\")\n",
    "    sel = soup.select(\"div.title a\")\n",
    "    u = soup.select(\"div.btn-group.btn-group-paging a\")\n",
    "    print (\"本頁的URL為\"+url)\n",
    "    url = \"https://www.ptt.cc\"+ u[1][\"href\"]\n",
    "    \n",
    "    for s in sel:\n",
    "        print(s[\"href\"],s.text)"
   ]
  },
  {
   "cell_type": "code",
   "execution_count": 28,
   "metadata": {},
   "outputs": [
    {
     "name": "stdout",
     "output_type": "stream",
     "text": [
      "送出的擋頭: \u001c",
      " {'User-Agent': 'python-requests/2.19.1', 'Accept-Encoding': 'gzip, deflate', 'Accept': '*/*', 'Connection': 'keep-alive', 'Referer': 'https://signin.fcu.edu.tw/clockin/login.aspx'}\n",
      "收到的擋頭: {'Cache-Control': 'private', 'Content-Type': 'text/html; charset=utf-8', 'Server': 'Microsoft-IIS/8.5', 'X-AspNet-Version': '4.0.30319', 'Date': 'Sun, 07 Oct 2018 07:41:56 GMT', 'ntCoent-Length': '3919', 'Content-Encoding': 'gzip', 'Content-Length': '1705'}\n"
     ]
    }
   ],
   "source": [
    "import requests\n",
    "from bs4 import BeautifulSoup\n",
    "\n",
    "s = requests.Session()\n",
    "loginPage = s.get(\"https://signin.fcu.edu.tw/clockin/login.aspx\")\n",
    "bs = BeautifulSoup(loginPage.text, \"html.parser\")\n",
    "loginData = {\n",
    "    \"__EVENTTARGET\":\"\",\n",
    "    \"__EVENTARGUMENT\":\"\",\n",
    "    \"__VIEWSTATE\":bs.select(\"#__VIEWSTATE\")[0][\"value\"],\n",
    "    \"__VIEWSTATEGENERATOR\":bs.select(\"#__VIEWSTATEGENERATOR\")[0][\"value\"],\n",
    "    \"__EVENTVALIDATION\":bs.select(\"#__EVENTVALIDATION\")[0][\"value\"],\n",
    "    \"LoginLdap$UserName\":\"D0449733\",\n",
    "    \"LoginLdap$Password\":\"As860117\",\n",
    "    \"LoginLdap$LoginButton\":\"登入\"\n",
    "}\n",
    "s.headers.update({\"Referer\":\"https://signin.fcu.edu.tw/clockin/login.aspx\"})\n",
    "print(\"送出的擋頭: \\034\",s.headers)\n",
    "a = s.post(\"https://signin.fcu.edu.tw/clockin/login.aspx\", data=loginData)\n",
    "print(\"收到的擋頭:\",a.headers)\n",
    "clockin = s.get(\"https://signin.fcu.edu.tw/clockin/Student.aspx\")\n",
    "#print(clockin.text)"
   ]
  },
  {
   "cell_type": "code",
   "execution_count": null,
   "metadata": {},
   "outputs": [],
   "source": []
  }
 ],
 "metadata": {
  "kernelspec": {
   "display_name": "Python 3",
   "language": "python",
   "name": "python3"
  },
  "language_info": {
   "codemirror_mode": {
    "name": "ipython",
    "version": 3
   },
   "file_extension": ".py",
   "mimetype": "text/x-python",
   "name": "python",
   "nbconvert_exporter": "python",
   "pygments_lexer": "ipython3",
   "version": "3.6.6"
  }
 },
 "nbformat": 4,
 "nbformat_minor": 2
}
