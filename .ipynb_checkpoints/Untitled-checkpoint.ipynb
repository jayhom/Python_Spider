{
 "cells": [
  {
   "cell_type": "code",
   "execution_count": 4,
   "metadata": {},
   "outputs": [
    {
     "name": "stdout",
     "output_type": "stream",
     "text": [
      "/f/sex/p/59114-＃必看-禁止在西斯版用任何形式交換聯絡資料\n",
      "/f/sex/p/228960046-＃更-看板功能相關說明＆重要提醒\n",
      "/f/sex/p/229815063-研究所學妹\n",
      "/f/sex/p/229818809-＃圖-上班犯規\n",
      "/f/sex/p/229814661-＃圖-＃更新-不聽話\n",
      "/f/sex/p/229818216-＃圖多-＃肉-一個月只做愛一次\n",
      "/f/sex/p/229817894-淫蕩👩🏻💼👩🏻💼👩🏻💼\n",
      "/f/sex/p/229820050-想女友\n",
      "/f/sex/p/229819065-＃圖-洗澡自慰☺️\n",
      "/f/sex/p/229820331-嘿，我是班\n",
      "/f/sex/p/229818175-＃圖-噗滋噗滋水做の女子\n",
      "/f/sex/p/229816588-＃吞噬我的哥斯拉\n",
      "/f/sex/p/229818646-＃圖-遠距離的小情趣\n",
      "/f/sex/p/229815457-＃文長😨＃圖-一次性愛，讓我見識到原來自己可以這麼乾。\n",
      "/f/sex/p/229816351-＃腿／高跟鞋-愛上被舔腳的快感\n",
      "/f/sex/p/229819902-＃圖-第一次3P體驗-兩男一女\n",
      "/f/sex/p/229819540-突然好想要\n",
      "/f/sex/p/229816921-＃影-推薦-喜歡無碼的-笑起來超漂亮-真的是素人嗎\n",
      "/f/sex/p/229820058-想把你吃掉🤤\n",
      "/f/sex/p/229817340-＃影片-又流出-怎麼最近一堆流出-正義魔人不要來\n",
      "/f/sex/p/229816770-＃圖-主人的手\n",
      "/f/sex/p/229818288-是我太傻才被騙-😪😪\n",
      "/f/sex/p/229820549-如果不想成為裸照或自拍影片的男／女主角\n",
      "/f/sex/p/229817749-一下子就高潮了...\n",
      "/f/sex/p/229821374-＃圖-第一次調教\n",
      "/f/sex/p/229818051-當個有理性的西斯人\n",
      "/f/sex/p/229821372-放假要幹嘛\n",
      "/f/sex/p/229821657-＃圖-結束以後的性慾\n",
      "/f/sex/p/229816841-＃無碼流出＃有片-佐藤遙希最新步兵片（30分54秒）~\n",
      "/f/sex/p/229816828-主人不在家很寂寞\n"
     ]
    }
   ],
   "source": [
    "#藉由首頁取得所有文章的URL\n",
    "import requests\n",
    "from bs4 import BeautifulSoup\n",
    "url=requests.get(\"https://www.dcard.tw/f/sex\")\n",
    "soup = BeautifulSoup(url.text,\"html.parser\")\n",
    "sel = soup.select(\"div.PostList_wrapper_2BLUM a.PostEntry_root_V6g0r\")\n",
    "a=[]\n",
    "for s in sel:\n",
    "    a.append(s[\"href\"])\n",
    "url = \"https://www.dcard.tw\"+ a[2]\n",
    "for i in a:\n",
    "    print(i)"
   ]
  },
  {
   "cell_type": "code",
   "execution_count": 85,
   "metadata": {},
   "outputs": [
    {
     "name": "stdout",
     "output_type": "stream",
     "text": [
      "229821935\n",
      "https://www.dcard.tw/f/sex/p/229816828-主人不在家很寂寞\n",
      "https://www.dcard.tw/f/sex/p/229817898-很爽的姿勢-（圖\n",
      "https://www.dcard.tw/f/sex/p/229819930-#音圖#跟主人的倒數第二炮\n",
      "https://www.dcard.tw/f/sex/p/229818150-跟日本女電愛的心得\n",
      "https://www.dcard.tw/f/sex/p/229819473-#圖--遠距離的誘惑\n",
      "https://www.dcard.tw/f/sex/p/229820889-我家小母狗\n",
      "https://www.dcard.tw/f/sex/p/229819703-#片-男的顏值有點高\n",
      "https://www.dcard.tw/f/sex/p/229821790-撕掉我內衣吧\n",
      "https://www.dcard.tw/f/sex/p/229817313-#圖-#文-用情至深的人\n",
      "https://www.dcard.tw/f/sex/p/229824368-#圖#文-想被幹-但只想給他\n",
      "https://www.dcard.tw/f/sex/p/229824331-我好想念你-前男友\n",
      "https://www.dcard.tw/f/sex/p/229823125-圖-刺鳥\n",
      "https://www.dcard.tw/f/sex/p/229823562-#圖#音-電愛也不讓我盡興\n",
      "https://www.dcard.tw/f/sex/p/229818221-開放式結局\n",
      "https://www.dcard.tw/f/sex/p/229818985-放假前夕在研究室和女同學研究三腳「含」數\n",
      "https://www.dcard.tw/f/sex/p/229818076-#自拍片--車震by-NTR~~~XD\n",
      "https://www.dcard.tw/f/sex/p/229816108-女友的味道\n",
      "https://www.dcard.tw/f/sex/p/229815912-第一次約炮該注意什麼?\n",
      "https://www.dcard.tw/f/sex/p/229820059-寵溺XIII\n",
      "https://www.dcard.tw/f/sex/p/229821275-#片-FB跟賴群瘋傳護理師外流片...\n",
      "https://www.dcard.tw/f/sex/p/229823476-閃光上班也要犯規一下\n",
      "https://www.dcard.tw/f/sex/p/229820806-#分享片-#圖-海邊做愛\n",
      "https://www.dcard.tw/f/sex/p/229817656-#問---參人行or肆人行\n",
      "https://www.dcard.tw/f/sex/p/229821568-撐不起來的泳衣\n",
      "https://www.dcard.tw/f/sex/p/229823226-#圖-只想找兩女一男-或多女一男-❤️--❤️--好想遇到-女閨蜜\n",
      "https://www.dcard.tw/f/sex/p/229816695-好奇Reverse-missionary體位感受👀\n",
      "https://www.dcard.tw/f/sex/p/229824500-#圖-棉花棒女孩\n",
      "https://www.dcard.tw/f/sex/p/229822360-#圖#長文#床伴---惡夢變美夢\n",
      "https://www.dcard.tw/f/sex/p/229816867-男生真的不喜歡太骨感的嗎QQ\n",
      "https://www.dcard.tw/f/sex/p/229822420-#圖-胖妞穿黑絲襪-慎入\n"
     ]
    }
   ],
   "source": [
    "#藉由首頁取得所有文章的URL\n",
    "import requests\n",
    "from bs4 import BeautifulSoup\n",
    "p = requests.Session()\n",
    "url=requests.get(\"https://www.dcard.tw/f/sex\")\n",
    "soup = BeautifulSoup(url.text,\"html.parser\")\n",
    "sel = soup.select(\"div.PostList_wrapper_2BLUM a.PostEntry_root_V6g0r\")\n",
    "a=[]\n",
    "for s in sel:\n",
    "    a.append(s[\"href\"])\n",
    "url = \"https://www.dcard.tw\"+ a[2]\n",
    "#for i in a:\n",
    "#    print(a)\n",
    "print(a[29][9:18])\n",
    "post_data={\n",
    "    \"before\":a[29][9:18],\n",
    "    \"limit\":\"30\",\n",
    "    \"popular\":\"true\"\n",
    "}\n",
    "url_list=[]\n",
    "r = p.get(\"https://www.dcard.tw/_api/forums/sex/posts\",params=post_data, headers = { \"Referer\": \"https://www.dcard.tw/\", \"User-Agent\": \"Mozilla/5.0\" })\n",
    "import json\n",
    "data2 = json.loads(r.text)\n",
    "#https://www.dcard.tw/f/sex/p/229821935-%EF%BC%83%E5%9C%96-%E4%B8%8D%E6%98%AF%E5%B0%8F%E9%9A%BB%E9%A6%AC%E4%B9%8Bpart8\n",
    "for u in range(len(data2)):\n",
    "    Temporary_url = \"https://www.dcard.tw/f/sex/p/\"+ str(data2[u][\"id\"]) + \"-\" + str(data2[u][\"title\"].replace(\" \",\"-\"))\n",
    "    print(Temporary_url)\n",
    "    url_list.append(Temporary_url)"
   ]
  },
  {
   "cell_type": "code",
   "execution_count": 81,
   "metadata": {},
   "outputs": [
    {
     "data": {
      "text/plain": [
       "30"
      ]
     },
     "execution_count": 81,
     "metadata": {},
     "output_type": "execute_result"
    }
   ],
   "source": []
  },
  {
   "cell_type": "code",
   "execution_count": null,
   "metadata": {},
   "outputs": [],
   "source": []
  }
 ],
 "metadata": {
  "kernelspec": {
   "display_name": "Python 3",
   "language": "python",
   "name": "python3"
  },
  "language_info": {
   "codemirror_mode": {
    "name": "ipython",
    "version": 3
   },
   "file_extension": ".py",
   "mimetype": "text/x-python",
   "name": "python",
   "nbconvert_exporter": "python",
   "pygments_lexer": "ipython3",
   "version": "3.6.6"
  }
 },
 "nbformat": 4,
 "nbformat_minor": 2
}
