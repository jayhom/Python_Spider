{
 "cells": [
  {
   "cell_type": "code",
   "execution_count": 1,
   "metadata": {},
   "outputs": [],
   "source": [
    "def encode_coupon(text):\n",
    "    return b64encode(hashlib.sha256(salt + text).digest() + text).decode('ascii')"
   ]
  },
  {
   "cell_type": "markdown",
   "metadata": {},
   "source": [
    "100 元優待眷 OInBND0K6GW9toqXMoAmUWj6Lnwxz8GVkRNtL4LS/mtBbnI5RWN0dGpt"
   ]
  },
  {
   "cell_type": "code",
   "execution_count": 3,
   "metadata": {},
   "outputs": [],
   "source": [
    "import hashlib\n",
    "from base64 import b64encode, b64decode"
   ]
  },
  {
   "cell_type": "code",
   "execution_count": 5,
   "metadata": {},
   "outputs": [],
   "source": [
    "tmp = b64decode(\"OInBND0K6GW9toqXMoAmUWj6Lnwxz8GVkRNtL4LS/mtBbnI5RWN0dGpt\")"
   ]
  },
  {
   "cell_type": "code",
   "execution_count": 6,
   "metadata": {},
   "outputs": [
    {
     "name": "stdout",
     "output_type": "stream",
     "text": [
      "b'8\\x89\\xc14=\\n\\xe8e\\xbd\\xb6\\x8a\\x972\\x80&Qh\\xfa.|1\\xcf\\xc1\\x95\\x91\\x13m/\\x82\\xd2\\xfekAnr9Ecttjm'\n"
     ]
    }
   ],
   "source": [
    "print(tmp)"
   ]
  },
  {
   "cell_type": "code",
   "execution_count": 10,
   "metadata": {},
   "outputs": [
    {
     "data": {
      "text/plain": [
       "b'8\\x89\\xc14=\\n\\xe8e\\xbd\\xb6\\x8a\\x972\\x80&Qh\\xfa.|1\\xcf\\xc1\\x95\\x91\\x13m/\\x82\\xd2\\xfek'"
      ]
     },
     "execution_count": 10,
     "metadata": {},
     "output_type": "execute_result"
    }
   ],
   "source": [
    "old_hash = tmp[:32]\n",
    "old_hash"
   ]
  },
  {
   "cell_type": "code",
   "execution_count": 11,
   "metadata": {},
   "outputs": [
    {
     "data": {
      "text/plain": [
       "b'Anr9Ecttjm'"
      ]
     },
     "execution_count": 11,
     "metadata": {},
     "output_type": "execute_result"
    }
   ],
   "source": [
    "msg=tmp[32:]\n",
    "msg"
   ]
  },
  {
   "cell_type": "code",
   "execution_count": null,
   "metadata": {},
   "outputs": [],
   "source": []
  }
 ],
 "metadata": {
  "kernelspec": {
   "display_name": "Python 3",
   "language": "python",
   "name": "python3"
  },
  "language_info": {
   "codemirror_mode": {
    "name": "ipython",
    "version": 3
   },
   "file_extension": ".py",
   "mimetype": "text/x-python",
   "name": "python",
   "nbconvert_exporter": "python",
   "pygments_lexer": "ipython3",
   "version": "3.6.6"
  }
 },
 "nbformat": 4,
 "nbformat_minor": 2
}
